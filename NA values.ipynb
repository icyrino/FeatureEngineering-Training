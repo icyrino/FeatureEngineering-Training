{
 "cells": [
  {
   "cell_type": "markdown",
   "metadata": {},
   "source": [
    "### In this notebook I will experiment different techniques to deal with NA values.\n",
    "### I wiil use the udemy course \"Feature Engineering for Machine Learning\", from Soledad Galli, for principal references, but will use others sources too.\n",
    "### I will use the data of the DSA January Competition. There is another repository(WIP) with the project."
   ]
  },
  {
   "cell_type": "code",
   "execution_count": 1,
   "metadata": {},
   "outputs": [],
   "source": [
    "#basic imports\n",
    "import numpy as np\n",
    "import pandas as pd\n",
    "import matplotlib.pyplot as plt\n",
    "import seaborn as sns\n",
    "%matplotlib inline"
   ]
  },
  {
   "cell_type": "code",
   "execution_count": 2,
   "metadata": {},
   "outputs": [],
   "source": [
    "#loading data\n",
    "df = pd.read_csv(\"Data/dataset_treino.csv\")"
   ]
  },
  {
   "cell_type": "code",
   "execution_count": 3,
   "metadata": {},
   "outputs": [
    {
     "data": {
      "text/html": [
       "<div>\n",
       "<style scoped>\n",
       "    .dataframe tbody tr th:only-of-type {\n",
       "        vertical-align: middle;\n",
       "    }\n",
       "\n",
       "    .dataframe tbody tr th {\n",
       "        vertical-align: top;\n",
       "    }\n",
       "\n",
       "    .dataframe thead th {\n",
       "        text-align: right;\n",
       "    }\n",
       "</style>\n",
       "<table border=\"1\" class=\"dataframe\">\n",
       "  <thead>\n",
       "    <tr style=\"text-align: right;\">\n",
       "      <th></th>\n",
       "      <th>id</th>\n",
       "      <th>num_gestacoes</th>\n",
       "      <th>glicose</th>\n",
       "      <th>pressao_sanguinea</th>\n",
       "      <th>grossura_pele</th>\n",
       "      <th>insulina</th>\n",
       "      <th>bmi</th>\n",
       "      <th>indice_historico</th>\n",
       "      <th>idade</th>\n",
       "      <th>classe</th>\n",
       "    </tr>\n",
       "  </thead>\n",
       "  <tbody>\n",
       "    <tr>\n",
       "      <th>0</th>\n",
       "      <td>1</td>\n",
       "      <td>6</td>\n",
       "      <td>148</td>\n",
       "      <td>72</td>\n",
       "      <td>35</td>\n",
       "      <td>0</td>\n",
       "      <td>33.6</td>\n",
       "      <td>0.627</td>\n",
       "      <td>50</td>\n",
       "      <td>1</td>\n",
       "    </tr>\n",
       "    <tr>\n",
       "      <th>1</th>\n",
       "      <td>2</td>\n",
       "      <td>1</td>\n",
       "      <td>85</td>\n",
       "      <td>66</td>\n",
       "      <td>29</td>\n",
       "      <td>0</td>\n",
       "      <td>26.6</td>\n",
       "      <td>0.351</td>\n",
       "      <td>31</td>\n",
       "      <td>0</td>\n",
       "    </tr>\n",
       "    <tr>\n",
       "      <th>2</th>\n",
       "      <td>3</td>\n",
       "      <td>8</td>\n",
       "      <td>183</td>\n",
       "      <td>64</td>\n",
       "      <td>0</td>\n",
       "      <td>0</td>\n",
       "      <td>23.3</td>\n",
       "      <td>0.672</td>\n",
       "      <td>32</td>\n",
       "      <td>1</td>\n",
       "    </tr>\n",
       "    <tr>\n",
       "      <th>3</th>\n",
       "      <td>4</td>\n",
       "      <td>1</td>\n",
       "      <td>89</td>\n",
       "      <td>66</td>\n",
       "      <td>23</td>\n",
       "      <td>94</td>\n",
       "      <td>28.1</td>\n",
       "      <td>0.167</td>\n",
       "      <td>21</td>\n",
       "      <td>0</td>\n",
       "    </tr>\n",
       "    <tr>\n",
       "      <th>4</th>\n",
       "      <td>5</td>\n",
       "      <td>0</td>\n",
       "      <td>137</td>\n",
       "      <td>40</td>\n",
       "      <td>35</td>\n",
       "      <td>168</td>\n",
       "      <td>43.1</td>\n",
       "      <td>2.288</td>\n",
       "      <td>33</td>\n",
       "      <td>1</td>\n",
       "    </tr>\n",
       "  </tbody>\n",
       "</table>\n",
       "</div>"
      ],
      "text/plain": [
       "   id  num_gestacoes  glicose  pressao_sanguinea  grossura_pele  insulina  \\\n",
       "0   1              6      148                 72             35         0   \n",
       "1   2              1       85                 66             29         0   \n",
       "2   3              8      183                 64              0         0   \n",
       "3   4              1       89                 66             23        94   \n",
       "4   5              0      137                 40             35       168   \n",
       "\n",
       "    bmi  indice_historico  idade  classe  \n",
       "0  33.6             0.627     50       1  \n",
       "1  26.6             0.351     31       0  \n",
       "2  23.3             0.672     32       1  \n",
       "3  28.1             0.167     21       0  \n",
       "4  43.1             2.288     33       1  "
      ]
     },
     "execution_count": 3,
     "metadata": {},
     "output_type": "execute_result"
    }
   ],
   "source": [
    "df.head()"
   ]
  },
  {
   "cell_type": "code",
   "execution_count": 4,
   "metadata": {},
   "outputs": [
    {
     "data": {
      "text/html": [
       "<div>\n",
       "<style scoped>\n",
       "    .dataframe tbody tr th:only-of-type {\n",
       "        vertical-align: middle;\n",
       "    }\n",
       "\n",
       "    .dataframe tbody tr th {\n",
       "        vertical-align: top;\n",
       "    }\n",
       "\n",
       "    .dataframe thead th {\n",
       "        text-align: right;\n",
       "    }\n",
       "</style>\n",
       "<table border=\"1\" class=\"dataframe\">\n",
       "  <thead>\n",
       "    <tr style=\"text-align: right;\">\n",
       "      <th></th>\n",
       "      <th>id</th>\n",
       "      <th>num_gestacoes</th>\n",
       "      <th>glicose</th>\n",
       "      <th>pressao_sanguinea</th>\n",
       "      <th>grossura_pele</th>\n",
       "      <th>insulina</th>\n",
       "      <th>bmi</th>\n",
       "      <th>indice_historico</th>\n",
       "      <th>idade</th>\n",
       "      <th>classe</th>\n",
       "    </tr>\n",
       "  </thead>\n",
       "  <tbody>\n",
       "    <tr>\n",
       "      <th>count</th>\n",
       "      <td>600.000000</td>\n",
       "      <td>600.000000</td>\n",
       "      <td>600.000000</td>\n",
       "      <td>600.000000</td>\n",
       "      <td>600.000000</td>\n",
       "      <td>600.000000</td>\n",
       "      <td>600.000000</td>\n",
       "      <td>600.000000</td>\n",
       "      <td>600.000000</td>\n",
       "      <td>600.000000</td>\n",
       "    </tr>\n",
       "    <tr>\n",
       "      <th>mean</th>\n",
       "      <td>300.500000</td>\n",
       "      <td>3.820000</td>\n",
       "      <td>120.135000</td>\n",
       "      <td>68.681667</td>\n",
       "      <td>20.558333</td>\n",
       "      <td>79.528333</td>\n",
       "      <td>31.905333</td>\n",
       "      <td>0.481063</td>\n",
       "      <td>33.278333</td>\n",
       "      <td>0.346667</td>\n",
       "    </tr>\n",
       "    <tr>\n",
       "      <th>std</th>\n",
       "      <td>173.349358</td>\n",
       "      <td>3.362009</td>\n",
       "      <td>32.658246</td>\n",
       "      <td>19.360226</td>\n",
       "      <td>16.004588</td>\n",
       "      <td>116.490583</td>\n",
       "      <td>8.009638</td>\n",
       "      <td>0.337284</td>\n",
       "      <td>11.822315</td>\n",
       "      <td>0.476306</td>\n",
       "    </tr>\n",
       "    <tr>\n",
       "      <th>min</th>\n",
       "      <td>1.000000</td>\n",
       "      <td>0.000000</td>\n",
       "      <td>0.000000</td>\n",
       "      <td>0.000000</td>\n",
       "      <td>0.000000</td>\n",
       "      <td>0.000000</td>\n",
       "      <td>0.000000</td>\n",
       "      <td>0.078000</td>\n",
       "      <td>21.000000</td>\n",
       "      <td>0.000000</td>\n",
       "    </tr>\n",
       "    <tr>\n",
       "      <th>25%</th>\n",
       "      <td>150.750000</td>\n",
       "      <td>1.000000</td>\n",
       "      <td>99.000000</td>\n",
       "      <td>64.000000</td>\n",
       "      <td>0.000000</td>\n",
       "      <td>0.000000</td>\n",
       "      <td>27.075000</td>\n",
       "      <td>0.248000</td>\n",
       "      <td>24.000000</td>\n",
       "      <td>0.000000</td>\n",
       "    </tr>\n",
       "    <tr>\n",
       "      <th>50%</th>\n",
       "      <td>300.500000</td>\n",
       "      <td>3.000000</td>\n",
       "      <td>116.000000</td>\n",
       "      <td>70.000000</td>\n",
       "      <td>23.000000</td>\n",
       "      <td>36.500000</td>\n",
       "      <td>32.000000</td>\n",
       "      <td>0.384000</td>\n",
       "      <td>29.000000</td>\n",
       "      <td>0.000000</td>\n",
       "    </tr>\n",
       "    <tr>\n",
       "      <th>75%</th>\n",
       "      <td>450.250000</td>\n",
       "      <td>6.000000</td>\n",
       "      <td>140.000000</td>\n",
       "      <td>80.000000</td>\n",
       "      <td>32.000000</td>\n",
       "      <td>122.750000</td>\n",
       "      <td>36.525000</td>\n",
       "      <td>0.647000</td>\n",
       "      <td>40.000000</td>\n",
       "      <td>1.000000</td>\n",
       "    </tr>\n",
       "    <tr>\n",
       "      <th>max</th>\n",
       "      <td>600.000000</td>\n",
       "      <td>17.000000</td>\n",
       "      <td>198.000000</td>\n",
       "      <td>122.000000</td>\n",
       "      <td>99.000000</td>\n",
       "      <td>846.000000</td>\n",
       "      <td>67.100000</td>\n",
       "      <td>2.420000</td>\n",
       "      <td>81.000000</td>\n",
       "      <td>1.000000</td>\n",
       "    </tr>\n",
       "  </tbody>\n",
       "</table>\n",
       "</div>"
      ],
      "text/plain": [
       "               id  num_gestacoes     glicose  pressao_sanguinea  \\\n",
       "count  600.000000     600.000000  600.000000         600.000000   \n",
       "mean   300.500000       3.820000  120.135000          68.681667   \n",
       "std    173.349358       3.362009   32.658246          19.360226   \n",
       "min      1.000000       0.000000    0.000000           0.000000   \n",
       "25%    150.750000       1.000000   99.000000          64.000000   \n",
       "50%    300.500000       3.000000  116.000000          70.000000   \n",
       "75%    450.250000       6.000000  140.000000          80.000000   \n",
       "max    600.000000      17.000000  198.000000         122.000000   \n",
       "\n",
       "       grossura_pele    insulina         bmi  indice_historico       idade  \\\n",
       "count     600.000000  600.000000  600.000000        600.000000  600.000000   \n",
       "mean       20.558333   79.528333   31.905333          0.481063   33.278333   \n",
       "std        16.004588  116.490583    8.009638          0.337284   11.822315   \n",
       "min         0.000000    0.000000    0.000000          0.078000   21.000000   \n",
       "25%         0.000000    0.000000   27.075000          0.248000   24.000000   \n",
       "50%        23.000000   36.500000   32.000000          0.384000   29.000000   \n",
       "75%        32.000000  122.750000   36.525000          0.647000   40.000000   \n",
       "max        99.000000  846.000000   67.100000          2.420000   81.000000   \n",
       "\n",
       "           classe  \n",
       "count  600.000000  \n",
       "mean     0.346667  \n",
       "std      0.476306  \n",
       "min      0.000000  \n",
       "25%      0.000000  \n",
       "50%      0.000000  \n",
       "75%      1.000000  \n",
       "max      1.000000  "
      ]
     },
     "execution_count": 4,
     "metadata": {},
     "output_type": "execute_result"
    }
   ],
   "source": [
    "df.describe()"
   ]
  },
  {
   "cell_type": "code",
   "execution_count": 5,
   "metadata": {},
   "outputs": [
    {
     "name": "stdout",
     "output_type": "stream",
     "text": [
      "<class 'pandas.core.frame.DataFrame'>\n",
      "RangeIndex: 600 entries, 0 to 599\n",
      "Data columns (total 10 columns):\n",
      "id                   600 non-null int64\n",
      "num_gestacoes        600 non-null int64\n",
      "glicose              600 non-null int64\n",
      "pressao_sanguinea    600 non-null int64\n",
      "grossura_pele        600 non-null int64\n",
      "insulina             600 non-null int64\n",
      "bmi                  600 non-null float64\n",
      "indice_historico     600 non-null float64\n",
      "idade                600 non-null int64\n",
      "classe               600 non-null int64\n",
      "dtypes: float64(2), int64(8)\n",
      "memory usage: 47.0 KB\n"
     ]
    }
   ],
   "source": [
    "df.info()"
   ]
  },
  {
   "cell_type": "markdown",
   "metadata": {},
   "source": [
    "##### In this case, we can assume that all the NA values was imputed with 0.\n",
    "##### Except for 'num_gestacoes', to have a 0 for min value is impossible for a living human been, so, I will assume 0 as NA value."
   ]
  },
  {
   "cell_type": "markdown",
   "metadata": {},
   "source": [
    "##### Starting with 'glicose'.\n",
    "##### Condn't find any relationship whith other features that explain the missing values,\n",
    "##### The same with some other information not present in the dataset. In this case, I will assume that the features has\n",
    "##### missing data completely at random(MCAR)."
   ]
  },
  {
   "cell_type": "code",
   "execution_count": 6,
   "metadata": {},
   "outputs": [
    {
     "data": {
      "text/html": [
       "<div>\n",
       "<style scoped>\n",
       "    .dataframe tbody tr th:only-of-type {\n",
       "        vertical-align: middle;\n",
       "    }\n",
       "\n",
       "    .dataframe tbody tr th {\n",
       "        vertical-align: top;\n",
       "    }\n",
       "\n",
       "    .dataframe thead th {\n",
       "        text-align: right;\n",
       "    }\n",
       "</style>\n",
       "<table border=\"1\" class=\"dataframe\">\n",
       "  <thead>\n",
       "    <tr style=\"text-align: right;\">\n",
       "      <th></th>\n",
       "      <th>id</th>\n",
       "      <th>num_gestacoes</th>\n",
       "      <th>glicose</th>\n",
       "      <th>pressao_sanguinea</th>\n",
       "      <th>grossura_pele</th>\n",
       "      <th>insulina</th>\n",
       "      <th>bmi</th>\n",
       "      <th>indice_historico</th>\n",
       "      <th>idade</th>\n",
       "      <th>classe</th>\n",
       "    </tr>\n",
       "  </thead>\n",
       "  <tbody>\n",
       "    <tr>\n",
       "      <th>75</th>\n",
       "      <td>76</td>\n",
       "      <td>1</td>\n",
       "      <td>0</td>\n",
       "      <td>48</td>\n",
       "      <td>20</td>\n",
       "      <td>0</td>\n",
       "      <td>24.7</td>\n",
       "      <td>0.140</td>\n",
       "      <td>22</td>\n",
       "      <td>0</td>\n",
       "    </tr>\n",
       "    <tr>\n",
       "      <th>182</th>\n",
       "      <td>183</td>\n",
       "      <td>1</td>\n",
       "      <td>0</td>\n",
       "      <td>74</td>\n",
       "      <td>20</td>\n",
       "      <td>23</td>\n",
       "      <td>27.7</td>\n",
       "      <td>0.299</td>\n",
       "      <td>21</td>\n",
       "      <td>0</td>\n",
       "    </tr>\n",
       "    <tr>\n",
       "      <th>342</th>\n",
       "      <td>343</td>\n",
       "      <td>1</td>\n",
       "      <td>0</td>\n",
       "      <td>68</td>\n",
       "      <td>35</td>\n",
       "      <td>0</td>\n",
       "      <td>32.0</td>\n",
       "      <td>0.389</td>\n",
       "      <td>22</td>\n",
       "      <td>0</td>\n",
       "    </tr>\n",
       "    <tr>\n",
       "      <th>349</th>\n",
       "      <td>350</td>\n",
       "      <td>5</td>\n",
       "      <td>0</td>\n",
       "      <td>80</td>\n",
       "      <td>32</td>\n",
       "      <td>0</td>\n",
       "      <td>41.0</td>\n",
       "      <td>0.346</td>\n",
       "      <td>37</td>\n",
       "      <td>1</td>\n",
       "    </tr>\n",
       "    <tr>\n",
       "      <th>502</th>\n",
       "      <td>503</td>\n",
       "      <td>6</td>\n",
       "      <td>0</td>\n",
       "      <td>68</td>\n",
       "      <td>41</td>\n",
       "      <td>0</td>\n",
       "      <td>39.0</td>\n",
       "      <td>0.727</td>\n",
       "      <td>41</td>\n",
       "      <td>1</td>\n",
       "    </tr>\n",
       "  </tbody>\n",
       "</table>\n",
       "</div>"
      ],
      "text/plain": [
       "      id  num_gestacoes  glicose  pressao_sanguinea  grossura_pele  insulina  \\\n",
       "75    76              1        0                 48             20         0   \n",
       "182  183              1        0                 74             20        23   \n",
       "342  343              1        0                 68             35         0   \n",
       "349  350              5        0                 80             32         0   \n",
       "502  503              6        0                 68             41         0   \n",
       "\n",
       "      bmi  indice_historico  idade  classe  \n",
       "75   24.7             0.140     22       0  \n",
       "182  27.7             0.299     21       0  \n",
       "342  32.0             0.389     22       0  \n",
       "349  41.0             0.346     37       1  \n",
       "502  39.0             0.727     41       1  "
      ]
     },
     "execution_count": 6,
     "metadata": {},
     "output_type": "execute_result"
    }
   ],
   "source": [
    "df[df['glicose'] == 0]"
   ]
  },
  {
   "cell_type": "code",
   "execution_count": 7,
   "metadata": {},
   "outputs": [
    {
     "data": {
      "text/plain": [
       "<matplotlib.axes._subplots.AxesSubplot at 0x192503e0080>"
      ]
     },
     "execution_count": 7,
     "metadata": {},
     "output_type": "execute_result"
    },
    {
     "data": {
      "image/png": "[encoded data removed]",
      "text/plain": [
       "<Figure size 432x288 with 1 Axes>"
      ]
     },
     "metadata": {
      "needs_background": "light"
     },
     "output_type": "display_data"
    }
   ],
   "source": [
    "df['glicose'].hist()"
   ]
  },
  {
   "cell_type": "markdown",
   "metadata": {},
   "source": [
    "#####  For a feature assumed MCAR, mean/median imputation is an option. As we could observe a (almost)gaussian distribution, the mean is a better choice"
   ]
  },
  {
   "cell_type": "code",
   "execution_count": 8,
   "metadata": {},
   "outputs": [
    {
     "data": {
      "text/plain": [
       "120.135"
      ]
     },
     "execution_count": 8,
     "metadata": {},
     "output_type": "execute_result"
    }
   ],
   "source": [
    "df['glicose'].mean()"
   ]
  },
  {
   "cell_type": "code",
   "execution_count": 9,
   "metadata": {},
   "outputs": [],
   "source": [
    "df['glicose_NAtoMean'] = df['glicose'].replace(to_replace = 0, value = df['glicose'].mean())"
   ]
  },
  {
   "cell_type": "code",
   "execution_count": 10,
   "metadata": {},
   "outputs": [
    {
     "data": {
      "text/plain": [
       "<matplotlib.axes._subplots.AxesSubplot at 0x19250661c50>"
      ]
     },
     "execution_count": 10,
     "metadata": {},
     "output_type": "execute_result"
    },
    {
     "data": {
      "image/png": "[encoded data removed]",
      "text/plain": [
       "<Figure size 432x288 with 1 Axes>"
      ]
     },
     "metadata": {
      "needs_background": "light"
     },
     "output_type": "display_data"
    }
   ],
   "source": [
    "df['glicose_NAtoMean'].hist()"
   ]
  },
  {
   "cell_type": "code",
   "execution_count": null,
   "metadata": {},
   "outputs": [],
   "source": []
  }
 ],
 "metadata": {
  "kernelspec": {
   "display_name": "Python 3",
   "language": "python",
   "name": "python3"
  },
  "language_info": {
   "codemirror_mode": {
    "name": "ipython",
    "version": 3
   },
   "file_extension": ".py",
   "mimetype": "text/x-python",
   "name": "python",
   "nbconvert_exporter": "python",
   "pygments_lexer": "ipython3",
   "version": "3.6.8"
  }
 },
 "nbformat": 4,
 "nbformat_minor": 2
}
